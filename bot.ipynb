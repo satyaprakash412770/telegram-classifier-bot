{
 "cells": [
  {
   "cell_type": "code",
   "execution_count": 4,
   "id": "c4390034",
   "metadata": {},
   "outputs": [
    {
     "name": "stdout",
     "output_type": "stream",
     "text": [
      "Requirement already satisfied: python-telegram-bot in d:\\satya123\\lib\\site-packages (21.10)\n",
      "Requirement already satisfied: httpx~=0.27 in d:\\satya123\\lib\\site-packages (from python-telegram-bot) (0.28.1)\n",
      "Requirement already satisfied: idna in d:\\satya123\\lib\\site-packages (from httpx~=0.27->python-telegram-bot) (3.4)\n",
      "Requirement already satisfied: httpcore==1.* in d:\\satya123\\lib\\site-packages (from httpx~=0.27->python-telegram-bot) (1.0.7)\n",
      "Requirement already satisfied: certifi in d:\\satya123\\lib\\site-packages (from httpx~=0.27->python-telegram-bot) (2023.5.7)\n",
      "Requirement already satisfied: anyio in d:\\satya123\\lib\\site-packages (from httpx~=0.27->python-telegram-bot) (3.5.0)\n",
      "Requirement already satisfied: h11<0.15,>=0.13 in d:\\satya123\\lib\\site-packages (from httpcore==1.*->httpx~=0.27->python-telegram-bot) (0.14.0)\n",
      "Requirement already satisfied: sniffio>=1.1 in d:\\satya123\\lib\\site-packages (from anyio->httpx~=0.27->python-telegram-bot) (1.2.0)\n",
      "Note: you may need to restart the kernel to use updated packages.\n"
     ]
    }
   ],
   "source": [
    "pip install python-telegram-bot\n"
   ]
  },
  {
   "cell_type": "code",
   "execution_count": null,
   "id": "43fa86bc",
   "metadata": {},
   "outputs": [],
   "source": [
    "updater = Updater(\"7333949230:AAE9Q-5viitwfc1X9h4rBnv9AeiMP8Z-rOg\")\n",
    "dispatcher = updater.dispatcher\n",
    "\n",
    "dispatcher.add_handler(CommandHandler(\"start\", start))\n",
    "dispatcher.add_handler(CommandHandler(\"help\", help_))\n",
    "\n",
    "dispatcher.add_handler(MessageHandler(Filters.text, message))\n",
    "\n",
    "dispatcher.add_handler(MessageHandler(Filters.photo, image))\n",
    "\n",
    "\n",
    "updater.start_polling()\n",
    "updater.idle()"
   ]
  }
 ],
 "metadata": {
  "kernelspec": {
   "display_name": "Python 3 (ipykernel)",
   "language": "python",
   "name": "python3"
  },
  "language_info": {
   "codemirror_mode": {
    "name": "ipython",
    "version": 3
   },
   "file_extension": ".py",
   "mimetype": "text/x-python",
   "name": "python",
   "nbconvert_exporter": "python",
   "pygments_lexer": "ipython3",
   "version": "3.10.9"
  }
 },
 "nbformat": 4,
 "nbformat_minor": 5
}
